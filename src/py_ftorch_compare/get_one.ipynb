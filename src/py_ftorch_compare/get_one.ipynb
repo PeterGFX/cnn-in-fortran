{
 "cells": [
  {
   "cell_type": "code",
   "execution_count": 2,
   "id": "8aabdfae-d531-43b0-8818-62066d229f18",
   "metadata": {},
   "outputs": [],
   "source": [
    "from dataloader import get_dataloaders\n",
    "\n",
    "import numpy as np"
   ]
  },
  {
   "cell_type": "code",
   "execution_count": 4,
   "id": "aff82d11-82b4-455b-b91b-bf5e200fe6fc",
   "metadata": {},
   "outputs": [],
   "source": [
    "in_len = 5\n",
    "out_len = 5"
   ]
  },
  {
   "cell_type": "code",
   "execution_count": 5,
   "id": "82b51d02-1671-4957-8f7f-87957b9d83e0",
   "metadata": {},
   "outputs": [],
   "source": [
    "test_loader, _ = get_dataloaders(1,in_len=in_len, out_len=out_len,)\n",
    "\n",
    "test_input, test_target = next(iter(test_loader))\n",
    "test_input, test_target = test_input.float(), test_target.float()"
   ]
  },
  {
   "cell_type": "code",
   "execution_count": 6,
   "id": "ffee90d3-f2ad-447c-96ec-103f3b258f3a",
   "metadata": {},
   "outputs": [
    {
     "data": {
      "text/plain": [
       "torch.Size([1, 5, 320, 320])"
      ]
     },
     "execution_count": 6,
     "metadata": {},
     "output_type": "execute_result"
    }
   ],
   "source": [
    "test_input.shape"
   ]
  },
  {
   "cell_type": "code",
   "execution_count": 12,
   "id": "cd8bab0e-cc43-42ba-86ee-f8169e256af3",
   "metadata": {},
   "outputs": [],
   "source": [
    "# Transpose input before saving so order consistent with Fortran\n",
    "np_input = np.array(test_input.numpy().transpose().flatten(), dtype=np.float32)\n",
    "np_target = np.array(test_target.numpy().transpose().flatten(), dtype=np.float32)"
   ]
  },
  {
   "cell_type": "code",
   "execution_count": null,
   "id": "a48607ae-326d-4a83-8dbb-30cb1753e943",
   "metadata": {},
   "outputs": [],
   "source": [
    "if not os.path.exists(\"./data\"):\n",
    "    os.mkdir(\"data\")"
   ]
  },
  {
   "cell_type": "code",
   "execution_count": 13,
   "id": "75a0c87b-4fc0-488b-881f-9c617915eb5d",
   "metadata": {},
   "outputs": [],
   "source": [
    "# Save data as binary\n",
    "np_input.tofile(\"data/input_tensor.dat\")\n",
    "np_target.tofile(\"data/target_tensor.dat\")"
   ]
  },
  {
   "cell_type": "code",
   "execution_count": 14,
   "id": "73a6db02-be77-49f3-843c-99f3b20251fc",
   "metadata": {},
   "outputs": [],
   "source": [
    "# Load saved data to check it was saved correctly\n",
    "np_data = np.fromfile(\"data/input_tensor.dat\", dtype=np.float32)\n",
    "np_target = np.fromfile(\"data/target_tensor.dat\", dtype=np.float32)"
   ]
  },
  {
   "cell_type": "code",
   "execution_count": 15,
   "id": "49f2fc66-3c6a-448b-8829-54f60f328f0d",
   "metadata": {},
   "outputs": [
    {
     "name": "stdout",
     "output_type": "stream",
     "text": [
      "done.\n"
     ]
    }
   ],
   "source": [
    "# Reshape to original tensor shape\n",
    "input_shape = np.array(test_input.numpy()).transpose().shape\n",
    "np_data = np_data.reshape(input_shape)\n",
    "np_data = np_data.transpose()\n",
    "target_shape = np.array(test_target.numpy()).transpose().shape\n",
    "np_target = np_target.reshape(target_shape)\n",
    "np_target = np_target.transpose()\n",
    "if not np.array_equal(np_data, test_input.numpy()):\n",
    "    result_error = (\n",
    "        \"Saved input_tensor.dat does not equal to the original tensor\"\n",
    "    )\n",
    "    raise ValueError(result_error)\n",
    "if not np.array_equal(np_target, test_target.numpy()):\n",
    "    result_error = (\n",
    "        \"Saved target_tensor.dat does not equal to the original tensor\"\n",
    "    )\n",
    "    raise ValueError(result_error)\n",
    "print(\"done.\")"
   ]
  },
  {
   "cell_type": "code",
   "execution_count": null,
   "id": "8acfa575-c3b1-422c-9f88-92c9d8ebb05b",
   "metadata": {},
   "outputs": [],
   "source": []
  }
 ],
 "metadata": {
  "kernelspec": {
   "display_name": "weather-cnn",
   "language": "python",
   "name": "weather-cnn"
  },
  "language_info": {
   "codemirror_mode": {
    "name": "ipython",
    "version": 3
   },
   "file_extension": ".py",
   "mimetype": "text/x-python",
   "name": "python",
   "nbconvert_exporter": "python",
   "pygments_lexer": "ipython3",
   "version": "3.12.9"
  }
 },
 "nbformat": 4,
 "nbformat_minor": 5
}
