{
 "cells": [
  {
   "cell_type": "code",
   "execution_count": 1,
   "id": "39c98317-cdeb-4fb7-ae50-47cdb6afb723",
   "metadata": {},
   "outputs": [],
   "source": [
    "import matplotlib.pyplot as plt\n",
    "import matplotlib.animation as animation\n",
    "import numpy as np\n",
    "import os\n",
    "import torch\n",
    "import sys\n",
    "import time\n",
    "from models import UNet\n",
    "from dataloader import get_dataloaders"
   ]
  },
  {
   "cell_type": "code",
   "execution_count": 3,
   "id": "67a9f0c5-7cd2-4918-921d-80a48c369aa6",
   "metadata": {},
   "outputs": [],
   "source": [
    "model_list = [\"unet_d3_out1_gpu_L1_traced.pt\",\"unet_d4_out1_gpu_L1_traced.pt\",\"unet_d5_out1_gpu_L1_traced.pt\",\"unet_d6_out1_gpu_L1_traced.pt\",\"unet_d7_out1_gpu_L1_traced.pt\"]"
   ]
  },
  {
   "cell_type": "code",
   "execution_count": 4,
   "id": "c89595b1-8e6c-4afd-aaf4-4712eaa2dbd1",
   "metadata": {},
   "outputs": [
    {
     "name": "stdout",
     "output_type": "stream",
     "text": [
      "UNet Depth: 3\n",
      "=== Result ===\n",
      "Using device: cuda\n",
      "Data preparation time: 0.392689 sec\n",
      "Model load time: 0.037351 sec\n",
      "Average inference (100 runs): 0.001300 sec\n",
      "Throughput: 769.09 samples/sec\n",
      "=== Result ===\n",
      "Using device: cpu\n",
      "Data preparation time: 0.327632 sec\n",
      "Model load time: 0.007464 sec\n",
      "Average inference (100 runs): 0.145327 sec\n",
      "Throughput: 6.88 samples/sec\n",
      "\n",
      "UNet Depth: 4\n",
      "=== Result ===\n",
      "Using device: cuda\n",
      "Data preparation time: 0.413237 sec\n",
      "Model load time: 0.058280 sec\n",
      "Average inference (100 runs): 0.001704 sec\n",
      "Throughput: 586.86 samples/sec\n",
      "=== Result ===\n",
      "Using device: cpu\n",
      "Data preparation time: 0.472553 sec\n",
      "Model load time: 0.011139 sec\n",
      "Average inference (100 runs): 0.154578 sec\n",
      "Throughput: 6.47 samples/sec\n",
      "\n",
      "UNet Depth: 5\n",
      "=== Result ===\n",
      "Using device: cuda\n",
      "Data preparation time: 0.552009 sec\n",
      "Model load time: 0.048340 sec\n",
      "Average inference (100 runs): 0.002204 sec\n",
      "Throughput: 453.79 samples/sec\n",
      "=== Result ===\n",
      "Using device: cpu\n",
      "Data preparation time: 0.511107 sec\n",
      "Model load time: 0.032525 sec\n",
      "Average inference (100 runs): 0.183404 sec\n",
      "Throughput: 5.45 samples/sec\n",
      "\n",
      "UNet Depth: 6\n",
      "=== Result ===\n",
      "Using device: cuda\n",
      "Data preparation time: 0.737628 sec\n",
      "Model load time: 0.560406 sec\n",
      "Average inference (100 runs): 0.003080 sec\n",
      "Throughput: 324.72 samples/sec\n",
      "=== Result ===\n",
      "Using device: cpu\n",
      "Data preparation time: 0.565700 sec\n",
      "Model load time: 0.116204 sec\n",
      "Average inference (100 runs): 0.198839 sec\n",
      "Throughput: 5.03 samples/sec\n",
      "\n",
      "UNet Depth: 7\n",
      "=== Result ===\n",
      "Using device: cuda\n",
      "Data preparation time: 0.564817 sec\n",
      "Model load time: 2.062583 sec\n",
      "Average inference (100 runs): 0.005977 sec\n",
      "Throughput: 167.30 samples/sec\n",
      "=== Result ===\n",
      "Using device: cpu\n",
      "Data preparation time: 0.545327 sec\n",
      "Model load time: 0.438721 sec\n",
      "Average inference (100 runs): 0.182719 sec\n",
      "Throughput: 5.47 samples/sec\n",
      "\n"
     ]
    }
   ],
   "source": [
    "for i in range(5):\n",
    "    Depth = i + 3\n",
    "    print(f\"UNet Depth: {Depth}\")\n",
    "    ## CUDA\n",
    "    device = torch.device('cuda' if torch.cuda.is_available() else 'cpu')\n",
    "    print(\"=== Result ===\")\n",
    "    print(f\"Using device: {device}\")\n",
    "\n",
    "    timings = {}\n",
    "    in_len = 5\n",
    "    out_len = 1\n",
    "\n",
    "    # Data preparation\n",
    "    torch.cuda.synchronize()\n",
    "    data_prep_start = time.time()\n",
    "    test_loader, _ = get_dataloaders(1,\n",
    "                                in_len=in_len,\n",
    "                                out_len=out_len,\n",
    "                                )\n",
    "\n",
    "    test_input, test_target = next(iter(test_loader))\n",
    "    test_input, test_target = test_input.to(device), test_target.to(device).float()\n",
    "    torch.cuda.synchronize()\n",
    "    data_prep_end = time.time()\n",
    "    timings['data_preparation'] = data_prep_end - data_prep_start\n",
    "\n",
    "    # Model load\n",
    "    torch.cuda.synchronize()\n",
    "    start_time = time.time()\n",
    "    with torch.no_grad():\n",
    "        model = torch.jit.load('./checkpoint/'+model_list[i], map_location=\"cuda\")\n",
    "        model.eval()\n",
    "        torch.cuda.synchronize() \n",
    "        model_prep_end = time.time()\n",
    "        timings['model_load'] = model_prep_end - start_time\n",
    "\n",
    "    # Warm up\n",
    "    with torch.no_grad():\n",
    "        _ = model(test_input)\n",
    "    \n",
    "    # Inference\n",
    "    num_runs = 100 \n",
    "    inference_times = []\n",
    "\n",
    "    for j in range(num_runs):\n",
    "        torch.cuda.synchronize()\n",
    "        start_inference = time.time()\n",
    "    \n",
    "        with torch.no_grad():\n",
    "            test_output = model(test_input)\n",
    "    \n",
    "        torch.cuda.synchronize()\n",
    "        end_inference = time.time()\n",
    "        inference_times.append(end_inference - start_inference)\n",
    "\n",
    "    avg_inference = sum(inference_times) / num_runs\n",
    "    std_inference = (sum((x - avg_inference) ** 2 for x in inference_times) / num_runs) ** 0.5\n",
    "    timings['avg_inference'] = avg_inference\n",
    "    timings['std_inference'] = std_inference\n",
    "\n",
    "    print(f\"Data preparation time: {timings['data_preparation']:.6f} sec\")\n",
    "    print(f\"Model load time: {timings['model_load']:.6f} sec\")\n",
    "    print(f\"Average inference ({num_runs} runs): {avg_inference:.6f} sec\")\n",
    "\n",
    "    batch_size = test_input.size(0)\n",
    "    throughput = batch_size / avg_inference\n",
    "    print(f\"Throughput: {throughput:.2f} samples/sec\")\n",
    "\n",
    "    ## CPU\n",
    "    device = torch.device('cpu')\n",
    "    print(\"=== Result ===\")\n",
    "    print(f\"Using device: {device}\")\n",
    "\n",
    "    timings = {}\n",
    "    in_len = 5\n",
    "    out_len = 1\n",
    "\n",
    "    # Data preparation\n",
    "    data_prep_start = time.time()\n",
    "    test_loader, _ = get_dataloaders(1,\n",
    "                                in_len=in_len,\n",
    "                                out_len=out_len,\n",
    "                                )\n",
    "\n",
    "    test_input, test_target = next(iter(test_loader))\n",
    "    test_input, test_target = test_input.to(device), test_target.to(device).float()\n",
    "    data_prep_end = time.time()\n",
    "    timings['data_preparation'] = data_prep_end - data_prep_start\n",
    "\n",
    "    # Model load\n",
    "\n",
    "    start_time = time.time()\n",
    "    with torch.no_grad():\n",
    "        model = torch.jit.load('./checkpoint/'+model_list[i], map_location=\"cpu\")\n",
    "        model.eval()\n",
    "        model_prep_end = time.time()\n",
    "        timings['model_load'] = model_prep_end - start_time\n",
    "        \n",
    "    # Warm up\n",
    "    with torch.no_grad():\n",
    "        _ = model(test_input)\n",
    "\n",
    "    # Inference\n",
    "    num_runs = 100 \n",
    "    inference_times = []\n",
    "\n",
    "    for j in range(num_runs):\n",
    "        start_inference = time.time()\n",
    "    \n",
    "        with torch.no_grad():\n",
    "            test_output = model(test_input)\n",
    "    \n",
    "        end_inference = time.time()\n",
    "        inference_times.append(end_inference - start_inference)\n",
    "\n",
    "    avg_inference = sum(inference_times) / num_runs\n",
    "    std_inference = (sum((x - avg_inference) ** 2 for x in inference_times) / num_runs) ** 0.5\n",
    "    timings['avg_inference'] = avg_inference\n",
    "    timings['std_inference'] = std_inference\n",
    "\n",
    "    print(f\"Data preparation time: {timings['data_preparation']:.6f} sec\")\n",
    "    print(f\"Model load time: {timings['model_load']:.6f} sec\")\n",
    "    print(f\"Average inference ({num_runs} runs): {avg_inference:.6f} sec\")\n",
    "\n",
    "    batch_size = test_input.size(0)\n",
    "    throughput = batch_size / avg_inference\n",
    "    print(f\"Throughput: {throughput:.2f} samples/sec\\n\")"
   ]
  },
  {
   "cell_type": "code",
   "execution_count": 15,
   "id": "43d528c0-3440-41ee-ba17-b78c319df009",
   "metadata": {},
   "outputs": [],
   "source": [
    "%%bash\n",
    "nvcc -c cuda_sync.c -o cuda_sync.o -I/user-environment/env/default/include"
   ]
  },
  {
   "cell_type": "code",
   "execution_count": 7,
   "id": "266c2ba4-2947-4f3c-9a93-f974fad66e2c",
   "metadata": {},
   "outputs": [
    {
     "name": "stdout",
     "output_type": "stream",
     "text": [
      "Running with depth: d3\n",
      "LD_LIBRARY_PATH=/user-environment/env/default/lib64:$LD_LIBRARY_PATH ./infer_fortran_cuda.x checkpoint/unet_d3_out1_gpu_L1_traced.pt data\n"
     ]
    },
    {
     "name": "stderr",
     "output_type": "stream",
     "text": [
      "/bin/sh: /users/class191/miniconda3/envs/weather-cnn/lib/libtinfo.so.6: no version information available (required by /lib64/libreadline.so.7)\n"
     ]
    },
    {
     "name": "stdout",
     "output_type": "stream",
     "text": [
      " === Fortran (ftorch) Performance Results ===\n",
      " Device: CUDA\n",
      "  Data preparation time:    3.00000003E-03  sec\n",
      "  Model load time:          2.99999993E-02  sec\n",
      "  Average inference (         100  runs):    1.28000020E-03  sec\n",
      "  Throughput:              781.249878      samples/sec\n",
      " UNet inference ran successfully\n",
      "Running with depth: d4\n",
      "LD_LIBRARY_PATH=/user-environment/env/default/lib64:$LD_LIBRARY_PATH ./infer_fortran_cuda.x checkpoint/unet_d4_out1_gpu_L1_traced.pt data\n"
     ]
    },
    {
     "name": "stderr",
     "output_type": "stream",
     "text": [
      "/bin/sh: /users/class191/miniconda3/envs/weather-cnn/lib/libtinfo.so.6: no version information available (required by /lib64/libreadline.so.7)\n"
     ]
    },
    {
     "name": "stdout",
     "output_type": "stream",
     "text": [
      " === Fortran (ftorch) Performance Results ===\n",
      " Device: CUDA\n",
      "  Data preparation time:    2.00000009E-03  sec\n",
      "  Model load time:          3.70000005E-02  sec\n",
      "  Average inference (         100  runs):    1.63000030E-03  sec\n",
      "  Throughput:              613.496826      samples/sec\n",
      " UNet inference ran successfully\n",
      "Running with depth: d5\n",
      "LD_LIBRARY_PATH=/user-environment/env/default/lib64:$LD_LIBRARY_PATH ./infer_fortran_cuda.x checkpoint/unet_d5_out1_gpu_L1_traced.pt data\n"
     ]
    },
    {
     "name": "stderr",
     "output_type": "stream",
     "text": [
      "/bin/sh: /users/class191/miniconda3/envs/weather-cnn/lib/libtinfo.so.6: no version information available (required by /lib64/libreadline.so.7)\n"
     ]
    },
    {
     "name": "stdout",
     "output_type": "stream",
     "text": [
      " === Fortran (ftorch) Performance Results ===\n",
      " Device: CUDA\n",
      "  Data preparation time:    2.00000009E-03  sec\n",
      "  Model load time:          5.79999983E-02  sec\n",
      "  Average inference (         100  runs):    2.12000078E-03  sec\n",
      "  Throughput:              471.697937      samples/sec\n",
      " UNet inference ran successfully\n",
      "Running with depth: d6\n",
      "LD_LIBRARY_PATH=/user-environment/env/default/lib64:$LD_LIBRARY_PATH ./infer_fortran_cuda.x checkpoint/unet_d6_out1_gpu_L1_traced.pt data\n"
     ]
    },
    {
     "name": "stderr",
     "output_type": "stream",
     "text": [
      "/bin/sh: /users/class191/miniconda3/envs/weather-cnn/lib/libtinfo.so.6: no version information available (required by /lib64/libreadline.so.7)\n"
     ]
    },
    {
     "name": "stdout",
     "output_type": "stream",
     "text": [
      " === Fortran (ftorch) Performance Results ===\n",
      " Device: CUDA\n",
      "  Data preparation time:    2.00000009E-03  sec\n",
      "  Model load time:         0.149000004      sec\n",
      "  Average inference (         100  runs):    3.04000080E-03  sec\n",
      "  Throughput:              328.947296      samples/sec\n",
      " UNet inference ran successfully\n",
      "Running with depth: d7\n",
      "LD_LIBRARY_PATH=/user-environment/env/default/lib64:$LD_LIBRARY_PATH ./infer_fortran_cuda.x checkpoint/unet_d7_out1_gpu_L1_traced.pt data\n"
     ]
    },
    {
     "name": "stderr",
     "output_type": "stream",
     "text": [
      "/bin/sh: /users/class191/miniconda3/envs/weather-cnn/lib/libtinfo.so.6: no version information available (required by /lib64/libreadline.so.7)\n"
     ]
    },
    {
     "name": "stdout",
     "output_type": "stream",
     "text": [
      " === Fortran (ftorch) Performance Results ===\n",
      " Device: CUDA\n",
      "  Data preparation time:    3.00000003E-03  sec\n",
      "  Model load time:         0.495000005      sec\n",
      "  Average inference (         100  runs):    5.95000014E-03  sec\n",
      "  Throughput:              168.067230      samples/sec\n",
      " UNet inference ran successfully\n"
     ]
    }
   ],
   "source": [
    "%%bash\n",
    "export LD_LIBRARY_PATH=/users/class191/miniconda3/envs/weather-cnn/lib:/users/class191/FTorchbin/lib64:$LD_LIBRARY_PATH\n",
    "for depth in d3 d4 d5 d6 d7; do\n",
    "    echo \"Running with depth: $depth\"\n",
    "    make run_infer_cuda MODEL=checkpoint/unet_${depth}_out1_gpu_L1_traced.pt DATADIR=data\n",
    "done"
   ]
  },
  {
   "cell_type": "code",
   "execution_count": 8,
   "id": "8ef34345-e5a7-479c-8dd2-1da8eca0b0f2",
   "metadata": {},
   "outputs": [
    {
     "name": "stdout",
     "output_type": "stream",
     "text": [
      "Running with depth: d3\n",
      "./infer_fortran_cpu.x checkpoint/unet_d3_out1_gpu_L1_traced.pt data\n",
      " === Fortran (ftorch) Performance Results ===\n",
      " Device: CPU\n",
      "  Data preparation time:    1.00000005E-03  sec\n",
      "  Model load time:         0.148000002      sec\n",
      "  Average inference (         100  runs):   0.261799991      sec\n",
      "  Throughput:              3.81970978      samples/sec\n",
      " UNet inference ran successfully\n",
      "Running with depth: d4\n",
      "./infer_fortran_cpu.x checkpoint/unet_d4_out1_gpu_L1_traced.pt data\n",
      " === Fortran (ftorch) Performance Results ===\n",
      " Device: CPU\n",
      "  Data preparation time:    2.00000009E-03  sec\n",
      "  Model load time:         0.128999993      sec\n",
      "  Average inference (         100  runs):   0.170700014      sec\n",
      "  Throughput:              5.85823011      samples/sec\n",
      " UNet inference ran successfully\n",
      "Running with depth: d5\n",
      "./infer_fortran_cpu.x checkpoint/unet_d5_out1_gpu_L1_traced.pt data\n",
      " === Fortran (ftorch) Performance Results ===\n",
      " Device: CPU\n",
      "  Data preparation time:    2.00000009E-03  sec\n",
      "  Model load time:         0.151999995      sec\n",
      "  Average inference (         100  runs):   0.206969991      sec\n",
      "  Throughput:              4.83161831      samples/sec\n",
      " UNet inference ran successfully\n",
      "Running with depth: d6\n",
      "./infer_fortran_cpu.x checkpoint/unet_d6_out1_gpu_L1_traced.pt data\n",
      " === Fortran (ftorch) Performance Results ===\n",
      " Device: CPU\n",
      "  Data preparation time:    2.00000009E-03  sec\n",
      "  Model load time:         0.264999986      sec\n",
      "  Average inference (         100  runs):   0.170849994      sec\n",
      "  Throughput:              5.85308790      samples/sec\n",
      " UNet inference ran successfully\n",
      "Running with depth: d7\n",
      "./infer_fortran_cpu.x checkpoint/unet_d7_out1_gpu_L1_traced.pt data\n",
      " === Fortran (ftorch) Performance Results ===\n",
      " Device: CPU\n",
      "  Data preparation time:    1.00000005E-03  sec\n",
      "  Model load time:         0.508000016      sec\n",
      "  Average inference (         100  runs):   0.227009967      sec\n",
      "  Throughput:              4.40509272      samples/sec\n",
      " UNet inference ran successfully\n"
     ]
    }
   ],
   "source": [
    "%%bash\n",
    "export LD_LIBRARY_PATH=/users/class191/miniconda3/envs/weather-cnn/lib:/users/class191/FTorchbin/lib64:$LD_LIBRARY_PATH\n",
    "for depth in d3 d4 d5 d6 d7; do\n",
    "    echo \"Running with depth: $depth\"\n",
    "    make run_infer_cpu MODEL=checkpoint/unet_${depth}_out1_gpu_L1_traced.pt DATADIR=data\n",
    "done"
   ]
  }
 ],
 "metadata": {
  "kernelspec": {
   "display_name": "weather-cnn",
   "language": "python",
   "name": "weather-cnn"
  },
  "language_info": {
   "codemirror_mode": {
    "name": "ipython",
    "version": 3
   },
   "file_extension": ".py",
   "mimetype": "text/x-python",
   "name": "python",
   "nbconvert_exporter": "python",
   "pygments_lexer": "ipython3",
   "version": "3.12.9"
  }
 },
 "nbformat": 4,
 "nbformat_minor": 5
}
